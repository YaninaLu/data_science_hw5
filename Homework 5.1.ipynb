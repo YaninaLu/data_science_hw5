{
 "cells": [
  {
   "cell_type": "markdown",
   "id": "e1366752",
   "metadata": {},
   "source": [
    "# Part One"
   ]
  },
  {
   "cell_type": "markdown",
   "id": "ad5e62a8",
   "metadata": {},
   "source": [
    "Для прямокутної області площею 1000 м2, що примикає до прямої ділянки річки, необхідно побудувати огорожу (причому, зі сторони річки огорожу будувати не потрібно). За яких розмірів області ``a``, ``b`` довжина огорожі буде мінімальною? Використовуйте функцію ``minimize`` з параметрами обмеженнями ``bounds`` і ``constraints``."
   ]
  },
  {
   "cell_type": "code",
   "execution_count": 2,
   "id": "62b0927b",
   "metadata": {},
   "outputs": [],
   "source": [
    "from scipy.optimize import minimize "
   ]
  },
  {
   "cell_type": "code",
   "execution_count": 16,
   "id": "d58ae29b",
   "metadata": {},
   "outputs": [],
   "source": [
    "def perimeter(x):\n",
    "    a, b = x\n",
    "    return 2 * a + b\n",
    "\n",
    "\n",
    "def area(x):\n",
    "    a, b = x \n",
    "    return a * b - 1000"
   ]
  },
  {
   "cell_type": "code",
   "execution_count": 17,
   "id": "a5edc7b7",
   "metadata": {},
   "outputs": [],
   "source": [
    "cons = ({'type': 'eq', 'fun': area})\n",
    "bnds = [(1, 1000), (1, 1000)]"
   ]
  },
  {
   "cell_type": "code",
   "execution_count": 18,
   "id": "ea9dc796",
   "metadata": {},
   "outputs": [],
   "source": [
    "res = minimize(perimeter, (0, 0), method='SLSQP', bounds=bnds, constraints=cons)"
   ]
  },
  {
   "cell_type": "code",
   "execution_count": 19,
   "id": "7a4b84bd",
   "metadata": {},
   "outputs": [
    {
     "name": "stdout",
     "output_type": "stream",
     "text": [
      " message: Optimization terminated successfully\n",
      " success: True\n",
      "  status: 0\n",
      "     fun: 89.44271933132097\n",
      "       x: [ 2.236e+01  4.472e+01]\n",
      "     nit: 18\n",
      "     jac: [ 2.000e+00  1.000e+00]\n",
      "    nfev: 71\n",
      "    njev: 18\n"
     ]
    }
   ],
   "source": [
    "print(res)"
   ]
  },
  {
   "cell_type": "markdown",
   "id": "e9ae1379",
   "metadata": {},
   "source": [
    "**The lengths of the sides have to be 22.36 and 44.72 to minimize the perimeter of the fence.**"
   ]
  }
 ],
 "metadata": {
  "kernelspec": {
   "display_name": "Python 3 (ipykernel)",
   "language": "python",
   "name": "python3"
  },
  "language_info": {
   "codemirror_mode": {
    "name": "ipython",
    "version": 3
   },
   "file_extension": ".py",
   "mimetype": "text/x-python",
   "name": "python",
   "nbconvert_exporter": "python",
   "pygments_lexer": "ipython3",
   "version": "3.10.9"
  }
 },
 "nbformat": 4,
 "nbformat_minor": 5
}
